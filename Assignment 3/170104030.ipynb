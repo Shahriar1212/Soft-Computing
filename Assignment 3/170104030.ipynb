{
  "nbformat": 4,
  "nbformat_minor": 0,
  "metadata": {
    "colab": {
      "name": "170104030_Assignment3.ipynb",
      "provenance": [],
      "collapsed_sections": []
    },
    "kernelspec": {
      "name": "python3",
      "display_name": "Python 3"
    },
    "language_info": {
      "name": "python"
    },
    "accelerator": "GPU"
  },
  "cells": [
    {
      "cell_type": "code",
      "metadata": {
        "id": "rR21Z9SBxH79"
      },
      "source": [
        "import pandas as pd\n",
        "import numpy as np\n",
        "import math\n",
        "import re\n",
        "import random\n",
        "import nltk\n",
        "from bnlp import BasicTokenizer\n",
        "\n",
        "from keras.preprocessing.text import Tokenizer\n",
        "from keras.preprocessing.sequence import pad_sequences\n",
        "from keras.models import Sequential\n",
        "from keras.layers import Dense, Embedding, LSTM, SpatialDropout1D, SimpleRNN\n",
        "from keras.layers import Dropout\n",
        "from keras.utils.np_utils import to_categorical\n",
        "\n",
        "from sklearn.model_selection import train_test_split\n",
        "from sklearn.metrics import f1_score, precision_score, recall_score\n",
        "from sklearn.metrics import classification_report, confusion_matrix\n",
        "\n",
        "import matplotlib as mpl\n",
        "import matplotlib.pyplot as plt\n",
        "import seaborn as sb\n"
      ],
      "execution_count": null,
      "outputs": []
    },
    {
      "cell_type": "code",
      "metadata": {
        "colab": {
          "base_uri": "https://localhost:8080/"
        },
        "id": "uKgLjqMcxSk6",
        "outputId": "9539b3d9-f687-47bb-eacd-6bc7d85c796c"
      },
      "source": [
        "from google.colab import drive\n",
        "drive.mount('/content/drive/')"
      ],
      "execution_count": null,
      "outputs": [
        {
          "output_type": "stream",
          "name": "stdout",
          "text": [
            "Mounted at /content/drive/\n"
          ]
        }
      ]
    },
    {
      "cell_type": "code",
      "metadata": {
        "id": "-cp4QOYmxUjc"
      },
      "source": [
        "df = pd.read_csv('/content/drive/MyDrive/Soft Computing/Assignment 3/Dataset_1.csv', encoding = \"ISO-8859-1\", engine='python')\n",
        "df = df.sample(frac=1)"
      ],
      "execution_count": null,
      "outputs": []
    },
    {
      "cell_type": "markdown",
      "metadata": {
        "id": "rPmEfCxZFEFa"
      },
      "source": [
        "# Preprocessing"
      ]
    },
    {
      "cell_type": "code",
      "metadata": {
        "id": "dRecrJC4xi_4"
      },
      "source": [
        "# removing mentions, links, tags\n",
        "\n",
        "import re\n",
        "\n",
        "def removing_mentions(text):\n",
        "    text = re.sub(r'@[A-Za-z0-9]+', '', text)     # removing @mentions\n",
        "    text = re.sub(r'@[A-Za-zA-Z0-9]+', '', text)  # removing @mentions \n",
        "    text = re.sub(r'@[A-Za-z]+', '', text)        # removing @mentions\n",
        "    text = re.sub(r'@[-)]+', '', text)            # removing @mentions\n",
        "\n",
        "    return text\n",
        "\n",
        "def removeing_links(text):\n",
        "    text = re.sub(r'https?\\/\\/\\S+', '', text)     # removing the hyper link\n",
        "    text = re.sub(r'http?\\/\\/\\S+', '', text)     # removing the hyper link\n",
        "    \n",
        "    return text\n",
        "\n",
        "def removing_tags(text):\n",
        "    text = re.sub(r'#', '', text )              # removing '#' sign\n",
        "    text = re.sub(r'RT[\\s]+', '', text)         # removing RT\n",
        "    text = re.sub(r'&[a-z;]+', '', text)        # removing '&gt;'\n",
        "    \n",
        "    return text"
      ],
      "execution_count": null,
      "outputs": []
    },
    {
      "cell_type": "markdown",
      "metadata": {
        "id": "ak-yPvHkOuGt"
      },
      "source": [
        "# Stopwords removal"
      ]
    },
    {
      "cell_type": "code",
      "metadata": {
        "id": "Eyo6MGRUVinA",
        "colab": {
          "base_uri": "https://localhost:8080/"
        },
        "outputId": "54978653-7310-4ec7-9c7d-704620c45e89"
      },
      "source": [
        "!pip install -U bnlp_toolkit"
      ],
      "execution_count": null,
      "outputs": [
        {
          "output_type": "stream",
          "name": "stdout",
          "text": [
            "Requirement already satisfied: bnlp_toolkit in /usr/local/lib/python3.7/dist-packages (3.1.2)\n",
            "Requirement already satisfied: numpy in /usr/local/lib/python3.7/dist-packages (from bnlp_toolkit) (1.19.5)\n",
            "Requirement already satisfied: sklearn-crfsuite in /usr/local/lib/python3.7/dist-packages (from bnlp_toolkit) (0.3.6)\n",
            "Requirement already satisfied: gensim==4.0.1 in /usr/local/lib/python3.7/dist-packages (from bnlp_toolkit) (4.0.1)\n",
            "Requirement already satisfied: scipy in /usr/local/lib/python3.7/dist-packages (from bnlp_toolkit) (1.4.1)\n",
            "Requirement already satisfied: sentencepiece in /usr/local/lib/python3.7/dist-packages (from bnlp_toolkit) (0.1.96)\n",
            "Requirement already satisfied: nltk in /usr/local/lib/python3.7/dist-packages (from bnlp_toolkit) (3.2.5)\n",
            "Requirement already satisfied: wasabi in /usr/local/lib/python3.7/dist-packages (from bnlp_toolkit) (0.8.2)\n",
            "Requirement already satisfied: smart-open>=1.8.1 in /usr/local/lib/python3.7/dist-packages (from gensim==4.0.1->bnlp_toolkit) (5.2.1)\n",
            "Requirement already satisfied: six in /usr/local/lib/python3.7/dist-packages (from nltk->bnlp_toolkit) (1.15.0)\n",
            "Requirement already satisfied: tabulate in /usr/local/lib/python3.7/dist-packages (from sklearn-crfsuite->bnlp_toolkit) (0.8.9)\n",
            "Requirement already satisfied: python-crfsuite>=0.8.3 in /usr/local/lib/python3.7/dist-packages (from sklearn-crfsuite->bnlp_toolkit) (0.9.7)\n",
            "Requirement already satisfied: tqdm>=2.0 in /usr/local/lib/python3.7/dist-packages (from sklearn-crfsuite->bnlp_toolkit) (4.62.2)\n"
          ]
        }
      ]
    },
    {
      "cell_type": "code",
      "metadata": {
        "colab": {
          "base_uri": "https://localhost:8080/"
        },
        "id": "5qByOGWdN2ln",
        "outputId": "c8f0c73e-8695-4687-a68c-1993f789be66"
      },
      "source": [
        "nltk.download('stopwords')\n",
        "stopwords = nltk.corpus.stopwords.words('english')\n",
        "\n",
        "def remove_stopwords(text):\n",
        "    tokenizer = BasicTokenizer()\n",
        "    words = tokenizer.tokenize(text)\n",
        "    filtered_words = [w for w in words if not w in stopwords]\n",
        "\n",
        "    str = \" \"\n",
        "    return str.join(filtered_words)"
      ],
      "execution_count": null,
      "outputs": [
        {
          "output_type": "stream",
          "name": "stdout",
          "text": [
            "[nltk_data] Downloading package stopwords to /root/nltk_data...\n",
            "[nltk_data]   Package stopwords is already up-to-date!\n"
          ]
        }
      ]
    },
    {
      "cell_type": "code",
      "metadata": {
        "colab": {
          "base_uri": "https://localhost:8080/",
          "height": 203
        },
        "id": "JUsowmUdt6Dk",
        "outputId": "b75cec94-1eec-4e84-d7e5-8bd4da6b30ec"
      },
      "source": [
        "df[['message', 'label']].iloc[range(5)]"
      ],
      "execution_count": null,
      "outputs": [
        {
          "output_type": "execute_result",
          "data": {
            "text/html": [
              "<div>\n",
              "<style scoped>\n",
              "    .dataframe tbody tr th:only-of-type {\n",
              "        vertical-align: middle;\n",
              "    }\n",
              "\n",
              "    .dataframe tbody tr th {\n",
              "        vertical-align: top;\n",
              "    }\n",
              "\n",
              "    .dataframe thead th {\n",
              "        text-align: right;\n",
              "    }\n",
              "</style>\n",
              "<table border=\"1\" class=\"dataframe\">\n",
              "  <thead>\n",
              "    <tr style=\"text-align: right;\">\n",
              "      <th></th>\n",
              "      <th>message</th>\n",
              "      <th>label</th>\n",
              "    </tr>\n",
              "  </thead>\n",
              "  <tbody>\n",
              "    <tr>\n",
              "      <th>1495</th>\n",
              "      <td>i spy with my little eye something beginning w...</td>\n",
              "      <td>0</td>\n",
              "    </tr>\n",
              "    <tr>\n",
              "      <th>5161</th>\n",
              "      <td>@ellyasabdullah Apologies 4 my impudence, U SI...</td>\n",
              "      <td>0</td>\n",
              "    </tr>\n",
              "    <tr>\n",
              "      <th>7787</th>\n",
              "      <td>My copy of LVATT is in the post! Heard the son...</td>\n",
              "      <td>0</td>\n",
              "    </tr>\n",
              "    <tr>\n",
              "      <th>8930</th>\n",
              "      <td>@homiebirdo Depression</td>\n",
              "      <td>1</td>\n",
              "    </tr>\n",
              "    <tr>\n",
              "      <th>553</th>\n",
              "      <td>@kristenstewart9 Hello Kristen love your work</td>\n",
              "      <td>0</td>\n",
              "    </tr>\n",
              "  </tbody>\n",
              "</table>\n",
              "</div>"
            ],
            "text/plain": [
              "                                                message  label\n",
              "1495  i spy with my little eye something beginning w...      0\n",
              "5161  @ellyasabdullah Apologies 4 my impudence, U SI...      0\n",
              "7787  My copy of LVATT is in the post! Heard the son...      0\n",
              "8930                             @homiebirdo Depression      1\n",
              "553      @kristenstewart9 Hello Kristen love your work       0"
            ]
          },
          "metadata": {},
          "execution_count": 81
        }
      ]
    },
    {
      "cell_type": "code",
      "metadata": {
        "id": "OELStpUAxz9T"
      },
      "source": [
        "df['message'] = df['message'].apply(removeing_links)\n",
        "df['message'] = df['message'].apply(removing_mentions)\n",
        "df['message'] = df['message'].apply(removing_tags)\n",
        "\n",
        "\n",
        "df['message'] = df['message'].apply(remove_stopwords)"
      ],
      "execution_count": null,
      "outputs": []
    },
    {
      "cell_type": "code",
      "metadata": {
        "colab": {
          "base_uri": "https://localhost:8080/",
          "height": 203
        },
        "id": "X8vPHNc8EJ2Y",
        "outputId": "34334eaf-fcce-4d4f-fca1-22d569d00a6b"
      },
      "source": [
        "df[['message', 'label']].iloc[range(5)]"
      ],
      "execution_count": null,
      "outputs": [
        {
          "output_type": "execute_result",
          "data": {
            "text/html": [
              "<div>\n",
              "<style scoped>\n",
              "    .dataframe tbody tr th:only-of-type {\n",
              "        vertical-align: middle;\n",
              "    }\n",
              "\n",
              "    .dataframe tbody tr th {\n",
              "        vertical-align: top;\n",
              "    }\n",
              "\n",
              "    .dataframe thead th {\n",
              "        text-align: right;\n",
              "    }\n",
              "</style>\n",
              "<table border=\"1\" class=\"dataframe\">\n",
              "  <thead>\n",
              "    <tr style=\"text-align: right;\">\n",
              "      <th></th>\n",
              "      <th>message</th>\n",
              "      <th>label</th>\n",
              "    </tr>\n",
              "  </thead>\n",
              "  <tbody>\n",
              "    <tr>\n",
              "      <th>1495</th>\n",
              "      <td>spy little eye something beginning M hint im l...</td>\n",
              "      <td>0</td>\n",
              "    </tr>\n",
              "    <tr>\n",
              "      <th>5161</th>\n",
              "      <td>Apologies 4 impudence , U SINGLE ? ? NOO ! ! C...</td>\n",
              "      <td>0</td>\n",
              "    </tr>\n",
              "    <tr>\n",
              "      <th>7787</th>\n",
              "      <td>My copy LVATT post ! Heard songs live last nig...</td>\n",
              "      <td>0</td>\n",
              "    </tr>\n",
              "    <tr>\n",
              "      <th>8930</th>\n",
              "      <td>Depression</td>\n",
              "      <td>1</td>\n",
              "    </tr>\n",
              "    <tr>\n",
              "      <th>553</th>\n",
              "      <td>Hello Kristen love work</td>\n",
              "      <td>0</td>\n",
              "    </tr>\n",
              "  </tbody>\n",
              "</table>\n",
              "</div>"
            ],
            "text/plain": [
              "                                                message  label\n",
              "1495  spy little eye something beginning M hint im l...      0\n",
              "5161  Apologies 4 impudence , U SINGLE ? ? NOO ! ! C...      0\n",
              "7787  My copy LVATT post ! Heard songs live last nig...      0\n",
              "8930                                         Depression      1\n",
              "553                             Hello Kristen love work      0"
            ]
          },
          "metadata": {},
          "execution_count": 83
        }
      ]
    },
    {
      "cell_type": "code",
      "metadata": {
        "id": "UYaFtCrZu5zV",
        "colab": {
          "base_uri": "https://localhost:8080/",
          "height": 428
        },
        "outputId": "17b6893d-b3fb-4e3a-ae9b-2b7776331bd6"
      },
      "source": [
        "df1 = df\n",
        "df1['length'] = 0\n",
        "\n",
        "a = 0\n",
        "for i, row in df1.iterrows():\n",
        "    l = len(row['message'])\n",
        "    df1.at[i,'length'] = l\n",
        "\n",
        "length_array = df1['length'].to_numpy()\n",
        "\n",
        "fig, ax = plt.subplots(figsize =(10, 7))\n",
        "ax.hist(length_array, bins=50)\n",
        " \n",
        "# Show plot\n",
        "plt.show()"
      ],
      "execution_count": null,
      "outputs": [
        {
          "output_type": "display_data",
          "data": {
            "image/png": "[encoded data removed]",
            "text/plain": [
              "<Figure size 720x504 with 1 Axes>"
            ]
          },
          "metadata": {
            "needs_background": "light"
          }
        }
      ]
    },
    {
      "cell_type": "code",
      "metadata": {
        "id": "GbMLoxkjv6__"
      },
      "source": [
        ""
      ],
      "execution_count": null,
      "outputs": []
    },
    {
      "cell_type": "code",
      "metadata": {
        "colab": {
          "base_uri": "https://localhost:8080/",
          "height": 203
        },
        "id": "I3ZE1c_8uVVg",
        "outputId": "69a1c5b8-99d7-487f-dbf9-163645b3cfc5"
      },
      "source": [
        "df[['message', 'label', 'length']].iloc[range(5)]"
      ],
      "execution_count": null,
      "outputs": [
        {
          "output_type": "execute_result",
          "data": {
            "text/html": [
              "<div>\n",
              "<style scoped>\n",
              "    .dataframe tbody tr th:only-of-type {\n",
              "        vertical-align: middle;\n",
              "    }\n",
              "\n",
              "    .dataframe tbody tr th {\n",
              "        vertical-align: top;\n",
              "    }\n",
              "\n",
              "    .dataframe thead th {\n",
              "        text-align: right;\n",
              "    }\n",
              "</style>\n",
              "<table border=\"1\" class=\"dataframe\">\n",
              "  <thead>\n",
              "    <tr style=\"text-align: right;\">\n",
              "      <th></th>\n",
              "      <th>message</th>\n",
              "      <th>label</th>\n",
              "      <th>length</th>\n",
              "    </tr>\n",
              "  </thead>\n",
              "  <tbody>\n",
              "    <tr>\n",
              "      <th>2718</th>\n",
              "      <td>_the_kid failure yesterday  sorry, ahaha</td>\n",
              "      <td>0</td>\n",
              "      <td>40</td>\n",
              "    </tr>\n",
              "    <tr>\n",
              "      <th>7829</th>\n",
              "      <td>3 days till Britney, excited</td>\n",
              "      <td>0</td>\n",
              "      <td>29</td>\n",
              "    </tr>\n",
              "    <tr>\n",
              "      <th>6828</th>\n",
              "      <td>Sushi-time! cant go wrong with that</td>\n",
              "      <td>0</td>\n",
              "      <td>36</td>\n",
              "    </tr>\n",
              "    <tr>\n",
              "      <th>310</th>\n",
              "      <td>Anyway sarah prout we all wish you the best of...</td>\n",
              "      <td>0</td>\n",
              "      <td>99</td>\n",
              "    </tr>\n",
              "    <tr>\n",
              "      <th>4168</th>\n",
              "      <td>Still walking on a cloud Dinner on 6/10 w/John...</td>\n",
              "      <td>0</td>\n",
              "      <td>137</td>\n",
              "    </tr>\n",
              "  </tbody>\n",
              "</table>\n",
              "</div>"
            ],
            "text/plain": [
              "                                                message  label  length\n",
              "2718           _the_kid failure yesterday  sorry, ahaha      0      40\n",
              "7829                      3 days till Britney, excited       0      29\n",
              "6828               Sushi-time! cant go wrong with that       0      36\n",
              "310   Anyway sarah prout we all wish you the best of...      0      99\n",
              "4168  Still walking on a cloud Dinner on 6/10 w/John...      0     137"
            ]
          },
          "metadata": {},
          "execution_count": 10
        }
      ]
    },
    {
      "cell_type": "markdown",
      "metadata": {
        "id": "nSNvIKSYFO6g"
      },
      "source": [
        "## Vectorization"
      ]
    },
    {
      "cell_type": "code",
      "metadata": {
        "colab": {
          "base_uri": "https://localhost:8080/"
        },
        "id": "dU4OMP86x7Bd",
        "outputId": "7e5fb944-a88c-44fe-cc59-c80adc81d00a"
      },
      "source": [
        "dataset = df\n",
        "unique_label = np.unique(df[\"label\"])\n",
        "num_classes = len(unique_label)\n",
        "\n",
        "from sklearn.model_selection import train_test_split\n",
        "X_train, X_test, y_train, y_test = train_test_split(dataset['message'].values, pd.get_dummies(dataset['label']).values, test_size=0.20)\n",
        "\n",
        "MAX_NB_WORDS = 20000\n",
        "MAX_SEQUENCE_LENGTH = 100\n",
        "EMBEDDING_DIM = 100\n",
        "\n",
        "tokenizer = Tokenizer(num_words=MAX_NB_WORDS)\n",
        "tokenizer.fit_on_texts(X_train)\n",
        "tokenizer.fit_on_texts(X_test)\n",
        "word_index = tokenizer.word_index\n",
        "print(\"found \", len(word_index), \" unique tokens\")\n",
        "\n",
        "train_seq = tokenizer.texts_to_sequences(X_train)\n",
        "test_seq = tokenizer.texts_to_sequences(X_test)\n",
        "pad_train = pad_sequences(train_seq, maxlen=MAX_SEQUENCE_LENGTH)\n",
        "pad_test = pad_sequences(test_seq, maxlen=MAX_SEQUENCE_LENGTH)\n",
        "print('Shape of data tensor:', pad_train.shape)\n",
        "\n",
        "\n",
        "print(pad_train.shape,y_train.shape)\n",
        "print(pad_test.shape,y_test.shape)"
      ],
      "execution_count": null,
      "outputs": [
        {
          "output_type": "stream",
          "name": "stdout",
          "text": [
            "found  18175  unique tokens\n",
            "Shape of data tensor: (8251, 100)\n",
            "(8251, 100) (8251, 2)\n",
            "(2063, 100) (2063, 2)\n"
          ]
        }
      ]
    },
    {
      "cell_type": "markdown",
      "metadata": {
        "id": "e6qk3igOFKMx"
      },
      "source": [
        "## Model"
      ]
    },
    {
      "cell_type": "code",
      "metadata": {
        "colab": {
          "base_uri": "https://localhost:8080/"
        },
        "id": "p_Wv2iavQgrU",
        "outputId": "dde953e7-d4a4-4459-bc5c-09d434ed4388"
      },
      "source": [
        "model = Sequential()\n",
        "model.add(Embedding(MAX_NB_WORDS, EMBEDDING_DIM, input_length=pad_train.shape[1]))\n",
        "model.add(LSTM(100, activation= 'tanh', return_sequences=True))\n",
        "model.add(Dropout(0.5))\n",
        "model.add(LSTM(100, activation= 'tanh', return_sequences=True))\n",
        "model.add(Dropout(0.5))\n",
        "model.add(LSTM(100, activation= 'tanh'))\n",
        "model.add(Dropout(0.5))\n",
        "model.add(Dense(2, activation='sigmoid'))\n",
        "\n",
        "\n",
        "model.compile(loss='binary_crossentropy', optimizer='adam', metrics=['accuracy']) \n",
        "model.summary()\n",
        "\n",
        "epochs = 15\n",
        "batch_size = 128\n",
        "\n",
        "history = model.fit(pad_train, y_train, epochs=epochs, batch_size=batch_size)"
      ],
      "execution_count": null,
      "outputs": [
        {
          "output_type": "stream",
          "name": "stdout",
          "text": [
            "Model: \"sequential_3\"\n",
            "_________________________________________________________________\n",
            "Layer (type)                 Output Shape              Param #   \n",
            "=================================================================\n",
            "embedding_3 (Embedding)      (None, 100, 100)          2000000   \n",
            "_________________________________________________________________\n",
            "lstm_9 (LSTM)                (None, 100, 100)          80400     \n",
            "_________________________________________________________________\n",
            "dropout_9 (Dropout)          (None, 100, 100)          0         \n",
            "_________________________________________________________________\n",
            "lstm_10 (LSTM)               (None, 100, 100)          80400     \n",
            "_________________________________________________________________\n",
            "dropout_10 (Dropout)         (None, 100, 100)          0         \n",
            "_________________________________________________________________\n",
            "lstm_11 (LSTM)               (None, 100)               80400     \n",
            "_________________________________________________________________\n",
            "dropout_11 (Dropout)         (None, 100)               0         \n",
            "_________________________________________________________________\n",
            "dense_3 (Dense)              (None, 2)                 202       \n",
            "=================================================================\n",
            "Total params: 2,241,402\n",
            "Trainable params: 2,241,402\n",
            "Non-trainable params: 0\n",
            "_________________________________________________________________\n",
            "Epoch 1/15\n",
            "65/65 [==============================] - 9s 75ms/step - loss: 0.4099 - accuracy: 0.8387\n",
            "Epoch 2/15\n",
            "65/65 [==============================] - 5s 73ms/step - loss: 0.0763 - accuracy: 0.9771\n",
            "Epoch 3/15\n",
            "65/65 [==============================] - 5s 73ms/step - loss: 0.0115 - accuracy: 0.9977\n",
            "Epoch 4/15\n",
            "65/65 [==============================] - 5s 73ms/step - loss: 0.0049 - accuracy: 0.9993\n",
            "Epoch 5/15\n",
            "65/65 [==============================] - 5s 73ms/step - loss: 0.0044 - accuracy: 0.9995\n",
            "Epoch 6/15\n",
            "65/65 [==============================] - 5s 73ms/step - loss: 0.0028 - accuracy: 0.9995\n",
            "Epoch 7/15\n",
            "65/65 [==============================] - 5s 73ms/step - loss: 0.0025 - accuracy: 0.9996\n",
            "Epoch 8/15\n",
            "65/65 [==============================] - 5s 73ms/step - loss: 0.0021 - accuracy: 0.9996\n",
            "Epoch 9/15\n",
            "65/65 [==============================] - 5s 73ms/step - loss: 0.0065 - accuracy: 0.9992\n",
            "Epoch 10/15\n",
            "65/65 [==============================] - 5s 73ms/step - loss: 0.0035 - accuracy: 0.9995\n",
            "Epoch 11/15\n",
            "65/65 [==============================] - 5s 73ms/step - loss: 0.0030 - accuracy: 0.9994\n",
            "Epoch 12/15\n",
            "65/65 [==============================] - 5s 73ms/step - loss: 0.0014 - accuracy: 0.9998\n",
            "Epoch 13/15\n",
            "65/65 [==============================] - 5s 73ms/step - loss: 0.0027 - accuracy: 0.9994\n",
            "Epoch 14/15\n",
            "65/65 [==============================] - 5s 73ms/step - loss: 0.0014 - accuracy: 0.9998\n",
            "Epoch 15/15\n",
            "65/65 [==============================] - 5s 72ms/step - loss: 0.0013 - accuracy: 0.9998\n"
          ]
        }
      ]
    },
    {
      "cell_type": "code",
      "metadata": {
        "colab": {
          "base_uri": "https://localhost:8080/"
        },
        "id": "d3f3jcGIZz_Y",
        "outputId": "970ff3c8-a0c7-4604-c4fe-bf57f3df8916"
      },
      "source": [
        "evaluation = model.evaluate(pad_test,y_test)\n",
        "accuracy = evaluation[1] * 100\n",
        "print(\"Accuracy is : \", accuracy)"
      ],
      "execution_count": null,
      "outputs": [
        {
          "output_type": "stream",
          "name": "stdout",
          "text": [
            "65/65 [==============================] - 4s 29ms/step - loss: 0.0437 - accuracy: 0.9947\n",
            "Accuracy is :  99.46679472923279\n"
          ]
        }
      ]
    },
    {
      "cell_type": "code",
      "metadata": {
        "colab": {
          "base_uri": "https://localhost:8080/",
          "height": 295
        },
        "id": "jKQJYtRVQnEc",
        "outputId": "95e0cc9d-c367-4c92-bde0-4c58d8f4207e"
      },
      "source": [
        "from matplotlib import pyplot\n",
        "\n",
        "pyplot.plot(history.history['loss'])\n",
        "pyplot.title('model train vs validation loss')\n",
        "pyplot.ylabel('loss')\n",
        "pyplot.xlabel('epoch')\n",
        "pyplot.legend(['loss', 'validation'], loc='upper right')\n",
        "pyplot.show()"
      ],
      "execution_count": null,
      "outputs": [
        {
          "output_type": "display_data",
          "data": {
            "image/png": "[encoded data removed]",
            "text/plain": [
              "<Figure size 432x288 with 1 Axes>"
            ]
          },
          "metadata": {
            "needs_background": "light"
          }
        }
      ]
    },
    {
      "cell_type": "code",
      "metadata": {
        "colab": {
          "base_uri": "https://localhost:8080/",
          "height": 295
        },
        "id": "0p_WKPFryMgd",
        "outputId": "dc291964-3cd7-41e4-b91f-de4c0f68cd63"
      },
      "source": [
        "y_pred = model.predict(pad_test)\n",
        "\n",
        "new_y_pred = np.argmax(y_pred, axis=1)\n",
        "new_y_test = np.argmax(y_test, axis=1)\n",
        "\n",
        "conf_arr = np.zeros((num_classes, num_classes))\n",
        "\n",
        "for i in range(len(new_y_pred)):\n",
        "        conf_arr[new_y_pred[i]][new_y_test[i]] += 1\n",
        "\n",
        "df_cm = pd.DataFrame(conf_arr, index = unique_label, columns = unique_label)\n",
        "\n",
        "\n",
        "\n",
        "fig = plt.figure()\n",
        "plt.clf()\n",
        "\n",
        "ax = fig.add_subplot()\n",
        "ax.set_aspect(1)\n",
        "\n",
        "cmap = sb.cubehelix_palette(light=1, as_cmap=True)\n",
        "res = sb.heatmap(df_cm, annot=True, vmin=0.0, vmax=np.max(conf_arr), fmt='.2f', cmap=cmap)\n",
        "\n",
        "plt.title('Confusion Matrix')\n",
        "plt.ylabel('Predicted')\n",
        "plt.xlabel('True')\n",
        "plt.show()"
      ],
      "execution_count": null,
      "outputs": [
        {
          "output_type": "display_data",
          "data": {
            "image/png": "[encoded data removed]",
            "text/plain": [
              "<Figure size 432x288 with 2 Axes>"
            ]
          },
          "metadata": {
            "needs_background": "light"
          }
        }
      ]
    },
    {
      "cell_type": "code",
      "metadata": {
        "colab": {
          "base_uri": "https://localhost:8080/"
        },
        "id": "-1rb3x9RnQrk",
        "outputId": "8b2bf5e2-7730-48a7-a993-37f35c864350"
      },
      "source": [
        "print(classification_report(new_y_test, new_y_pred))"
      ],
      "execution_count": null,
      "outputs": [
        {
          "output_type": "stream",
          "name": "stdout",
          "text": [
            "              precision    recall  f1-score   support\n",
            "\n",
            "           0       1.00      1.00      1.00      1599\n",
            "           1       0.99      0.98      0.99       464\n",
            "\n",
            "    accuracy                           0.99      2063\n",
            "   macro avg       0.99      0.99      0.99      2063\n",
            "weighted avg       0.99      0.99      0.99      2063\n",
            "\n"
          ]
        }
      ]
    },
    {
      "cell_type": "code",
      "metadata": {
        "colab": {
          "base_uri": "https://localhost:8080/"
        },
        "id": "feaYt21joMAS",
        "outputId": "e935ad56-1bc5-4abc-acdd-2f7515174221"
      },
      "source": [
        "precision =   precision_score(new_y_test, new_y_pred) * 100\n",
        "recall =  recall_score(new_y_test, new_y_pred) * 100\n",
        "f1_score =  f1_score(new_y_test, new_y_pred) * 100\n",
        "print(precision)\n",
        "print(f1_score)\n",
        "print(recall)"
      ],
      "execution_count": null,
      "outputs": [
        {
          "output_type": "stream",
          "name": "stdout",
          "text": [
            "99.34640522875817\n",
            "98.80823401950163\n",
            "98.27586206896551\n"
          ]
        }
      ]
    },
    {
      "cell_type": "code",
      "metadata": {
        "colab": {
          "base_uri": "https://localhost:8080/",
          "height": 340
        },
        "id": "arKSoAU9K1ub",
        "outputId": "62db7665-282b-4fc3-c6a1-a1b8d83a771e"
      },
      "source": [
        "import matplotlib.pyplot as plt\n",
        "fig = plt.figure()\n",
        "ax = fig.add_axes([0,0,1,1])\n",
        "label = ['Accuracy', 'Precision', 'F1-score', 'Recall']\n",
        "value = [accuracy,precision,f1_score,recall]\n",
        "ax.bar(label,value)\n",
        "plt.ylim(96,100)\n",
        "plt.show()"
      ],
      "execution_count": null,
      "outputs": [
        {
          "output_type": "display_data",
          "data": {
            "image/png": "[encoded data removed]",
            "text/plain": [
              "<Figure size 432x288 with 1 Axes>"
            ]
          },
          "metadata": {
            "needs_background": "light"
          }
        }
      ]
    }
  ]
}